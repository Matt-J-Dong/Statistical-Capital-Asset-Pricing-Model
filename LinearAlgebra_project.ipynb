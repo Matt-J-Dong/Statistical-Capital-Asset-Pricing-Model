{
  "cells": [
    {
      "cell_type": "markdown",
      "metadata": {
        "id": "voFZ0_puo3LK"
      },
      "source": [
        "Please follow the instructions carefully. Write all your code in a `Code` cell, and your explanations in a `Markdown` cell. Make sure that your code compiles correctly either by selecting a given cell and clicking the `Run` button, or by hitting `shift`+`enter` or `shift`+`return`."
      ]
    },
    {
      "cell_type": "markdown",
      "metadata": {
        "id": "MGS0XEWoL9er"
      },
      "source": [
        "### 1. Import `numpy`, `numpy.linalg`, `matplotlib.pyplot`, and `pandas`. Use the appropriate aliases when importing these modules."
      ]
    },
    {
      "cell_type": "code",
      "execution_count": null,
      "metadata": {
        "id": "KheDr_zDL9es"
      },
      "outputs": [],
      "source": [
        "# code for question 1\n",
        "import numpy as np\n",
        "import numpy.linalg as la\n",
        "import matplotlib.pyplot as plt\n",
        "import pandas as pd\n",
        "%matplotlib inline"
      ]
    },
    {
      "cell_type": "markdown",
      "metadata": {
        "id": "BnraRRm8o3Ld"
      },
      "source": [
        "### 2. Load the data from the file named `data_stock_returns.csv` into a `DatFrame` called `returns`. The file `data_stock_returns.csv` contains daily returns of a number of stocks selected from the S&P 500 universe. The rows of the csv file represent the returns over a number of days, and the columns represent individual stocks labeled by their NYSE ticker symbol, e.g., Apple stock is labeled `AAPL`."
      ]
    },
    {
      "cell_type": "code",
      "execution_count": null,
      "metadata": {
        "id": "Ml7wr6GSo3Le"
      },
      "outputs": [],
      "source": [
        "# code for question 2\n",
        "from google.colab import files\n",
        "uploaded = files.upload()\n",
        "returns = pd.read_csv('data_stock_returns.csv')"
      ]
    },
    {
      "cell_type": "markdown",
      "metadata": {
        "id": "pFJXi4GXo3Li"
      },
      "source": [
        "### 3. View the `head` of the `returns` `DataFrame`"
      ]
    },
    {
      "cell_type": "code",
      "execution_count": null,
      "metadata": {
        "id": "nILjqx_Do3Lk"
      },
      "outputs": [],
      "source": [
        "# code for question 3\n",
        "returns.head()"
      ]
    },
    {
      "cell_type": "markdown",
      "metadata": {
        "id": "-e82wrNwo3Lm"
      },
      "source": [
        "### 4. View the `tail` of the `returns` `DataFrame`"
      ]
    },
    {
      "cell_type": "code",
      "execution_count": null,
      "metadata": {
        "id": "9bxfMnXLo3Lo"
      },
      "outputs": [],
      "source": [
        "# code for question 4\n"
      ]
    },
    {
      "cell_type": "markdown",
      "metadata": {
        "id": "eYvTlY30o3Lq"
      },
      "source": [
        "### 5. How many stocks are in this `DataFrame`?"
      ]
    },
    {
      "cell_type": "code",
      "execution_count": null,
      "metadata": {
        "id": "EMdow3Zno3Lu"
      },
      "outputs": [],
      "source": [
        "# code for question 5\n"
      ]
    },
    {
      "cell_type": "markdown",
      "metadata": {
        "id": "9I6VxC1Po3Lw"
      },
      "source": [
        "**ANSWER FOR QUESTION 5**: (double click here and type your answer)"
      ]
    },
    {
      "cell_type": "markdown",
      "metadata": {
        "id": "UnNCCXBXo3Lz"
      },
      "source": [
        "### 6. Over how many days are these stock returns reported?"
      ]
    },
    {
      "cell_type": "code",
      "execution_count": null,
      "metadata": {
        "id": "_CeL4dWTo3L0"
      },
      "outputs": [],
      "source": [
        "# code for question 6\n"
      ]
    },
    {
      "cell_type": "markdown",
      "metadata": {
        "id": "ffbJfjE-o3L1"
      },
      "source": [
        "**ANSWER FOR QUESTION 6**: (double click here and type your answer)"
      ]
    },
    {
      "cell_type": "markdown",
      "metadata": {
        "id": "lr5O5Kawo3L1"
      },
      "source": [
        "### 7. Extract the returns of the Amazon stock only, which has a ticker symbol `AMZN`. Save it in a `Series` called `amzn_returns`."
      ]
    },
    {
      "cell_type": "code",
      "execution_count": null,
      "metadata": {
        "id": "lREq9Jjco3L2"
      },
      "outputs": [],
      "source": [
        "# code for question 7\n"
      ]
    },
    {
      "cell_type": "markdown",
      "metadata": {
        "id": "BOS9Qxl1o3L3"
      },
      "source": [
        "### 8. Plot the Amazon stock returns extracted in the above cell. "
      ]
    },
    {
      "cell_type": "code",
      "execution_count": null,
      "metadata": {
        "id": "KFfxJ4pgo3L4"
      },
      "outputs": [],
      "source": [
        "# code for question 8\n"
      ]
    },
    {
      "cell_type": "markdown",
      "metadata": {
        "id": "93EqI5Vho3L4"
      },
      "source": [
        "### 9. Plot the cumulative sum of the Amazon stock returns using the method `.cumsum()` which acts directly on the `amzn_returns` `Series`."
      ]
    },
    {
      "cell_type": "code",
      "execution_count": null,
      "metadata": {
        "id": "hSElpeYvo3L5"
      },
      "outputs": [],
      "source": [
        "# code for question 9\n"
      ]
    },
    {
      "cell_type": "code",
      "execution_count": null,
      "metadata": {
        "id": "e4RiuVn6o3L6"
      },
      "outputs": [],
      "source": [
        "# the module below will allow us to perform linear regression\n",
        "import statsmodels.api as sm"
      ]
    },
    {
      "cell_type": "markdown",
      "metadata": {
        "id": "FbZBRVSio3L6"
      },
      "source": [
        "The function `lin_reg(x,y)` given below performs ordinary least squares (OLS) linear regression using `sm.OLS` from the `statsmodels.api` module.\n",
        "\n",
        "The code enclosed in `''' '''` is the docstring of the function `lin_reg`.\n",
        "\n",
        "`x` in the `lin_reg` function is a matrix that contains the regressors, and `y` represents the vector containing the dependent variable. Note that `x` might contain one vector or multiple vectors. In the case that `x` contains one vector $x$, the regression gives:\n",
        "\n",
        "$$ y = \\beta_0 + \\beta_1 x $$\n",
        "\n",
        "In the case that `x` contains multiple vectors $x_1, \\dots, x_k$, the regression becomes:\n",
        "\n",
        "$$ y = \\beta_0 + \\beta_1 x_1 + \\dots + \\beta_k x_k$$\n",
        "\n",
        "The $\\beta$'s are the regression coefficients obtained using least squares. Note that `sm.add_constant` is used in the function below to make `x` look like the matrix $A$ we use in least squares, whose first column contains all ones."
      ]
    },
    {
      "cell_type": "code",
      "execution_count": null,
      "metadata": {
        "id": "UWEhWIAuo3L7"
      },
      "outputs": [],
      "source": [
        "def lin_reg(x, y):\n",
        "    '''\n",
        "    ordinary linear regression using least-squares\n",
        "    \n",
        "    Parameters\n",
        "    ----------  \n",
        "    x: regressors (numpy array)\n",
        "    y: dependent variable (numpy array)\n",
        "    \n",
        "    Returns\n",
        "    -------\n",
        "    coefficients: regression coefficients (pandas Series)\n",
        "    residuals: regression residuals (numpy array)\n",
        "    r_squared: correlation coefficient (float)\n",
        "    \n",
        "    '''\n",
        "    x = sm.add_constant(x)\n",
        "    model = sm.OLS(y, x).fit()\n",
        "    coefficients = model.params\n",
        "    residuals = model.resid\n",
        "    r_squared = model.rsquared\n",
        "    return coefficients, residuals, r_squared"
      ]
    },
    {
      "cell_type": "markdown",
      "metadata": {
        "id": "sM0SffWJo3L8"
      },
      "source": [
        "### 10. Let's try to use the above function. Extract (as numpy array) the stock returns of:\n",
        "\n",
        "- Apple (ticker symbol `AAPL`) and call it `aapl`\n",
        "- Intel (ticker symbol `INTC`) and call it `intc`\n",
        "- Microsoft (ticker symbol `MSFT`) and call it `msft`\n",
        "- IBM (ticker symbol `IBM`) and call it `ibm`\n",
        "\n",
        "### Let `y` be the Apple stock returns, and `x` be the Intel stock returns. Use the `lin_reg` function defined above to find $y=\\beta_0 + \\beta_1 x$. "
      ]
    },
    {
      "cell_type": "code",
      "execution_count": null,
      "metadata": {
        "id": "eYgcH6Kvo3L9"
      },
      "outputs": [],
      "source": [
        "# code for question 10\n"
      ]
    },
    {
      "cell_type": "markdown",
      "metadata": {
        "id": "kjSgDiWRo3L-"
      },
      "source": [
        "### 11. Plot the cumulative sum of the Apple returns prediction from least squares on top of the cumulative sum of the actual Apple returns. How well do the Intel stock returns describe the Apple stock returns? Answer this question using a quantitative measure of choice to describe how well the regression describes the actual data (you should research what is standard procedure in answering these types of questions)."
      ]
    },
    {
      "cell_type": "code",
      "execution_count": null,
      "metadata": {
        "id": "oFHxC6oWo3L_"
      },
      "outputs": [],
      "source": [
        "# code for question 11\n"
      ]
    },
    {
      "cell_type": "markdown",
      "metadata": {
        "id": "AohUeUtTo3L_"
      },
      "source": [
        "**ANSWER FOR QUESTION 11**: (double click here and type your answer)\n"
      ]
    },
    {
      "cell_type": "markdown",
      "metadata": {
        "id": "VN_du4K5o3MB"
      },
      "source": [
        "### 12. Now, let `y` be the Apple stock returns, and `x` be the Intel, Microsoft, and IBM stock returns. Use the `lin_reg` function defined above to find $y=\\beta_0 + \\beta_1 x_1 + \\beta_2 x_2 + \\beta_3 x_3$, where $x_1$ represents Intel returns, $x_2$ represents Microsoft returns, and $x_3$ represents IBM returns. "
      ]
    },
    {
      "cell_type": "code",
      "execution_count": null,
      "metadata": {
        "id": "DUyZH_-po3MC"
      },
      "outputs": [],
      "source": [
        "# code for question 12\n"
      ]
    },
    {
      "cell_type": "markdown",
      "metadata": {
        "id": "nS3SgLEQo3MD"
      },
      "source": [
        "### 13. Plot the cumulative sum of the Apple returns prediction from least squares on top of the cumulative sum of actual Apple returns. How well do the Intel, Microsoft, and IBM stock returns describe the Apple stock returns? Answer this question using a quantitative measure of choice to describe how well the regression describes the actual data (you should research what is standard procedure in answering these types of questions)."
      ]
    },
    {
      "cell_type": "code",
      "execution_count": null,
      "metadata": {
        "id": "UUCDe_TQo3MD"
      },
      "outputs": [],
      "source": [
        "# code for question 13\n"
      ]
    },
    {
      "cell_type": "markdown",
      "metadata": {
        "id": "SCQlVPNmo3ME"
      },
      "source": [
        "**ANSWER FOR QUESTION 13**: (double click here and type your answer)\n",
        "\n"
      ]
    },
    {
      "cell_type": "markdown",
      "metadata": {
        "id": "HbmcUm2zo3ME"
      },
      "source": [
        "The file `SPY.csv` contains the prices of SPDR S&P 500 ETF Trust. This Exchange Traded Fund (ETF) contains a collection of assets currently present in the S&P 500 index. \n",
        "\n",
        "### 14. Load `SPY.csv` into a DataFrame called `spy_prices` using the `read_csv` method in `pandas`. Make sure to make the 'Date' column to be your index column. To do that, read the docstring for `read_csv`. "
      ]
    },
    {
      "cell_type": "code",
      "execution_count": null,
      "metadata": {
        "id": "FSULofdLo3MF"
      },
      "outputs": [],
      "source": [
        "# code for question 14\n"
      ]
    },
    {
      "cell_type": "markdown",
      "metadata": {
        "id": "Q3SZG271o3MG"
      },
      "source": [
        "### 15. Once you have downloaded the file into the `DataFrame`, observe all the available prices and dates. Show the head and tail of the `DataFrame`, and then answer the following questions:\n",
        "\n",
        "(a) Which types of prices are reported?\n",
        "\n",
        "(b) From which date to which date are these prices reported (in the entire DataFrame)?"
      ]
    },
    {
      "cell_type": "code",
      "execution_count": null,
      "metadata": {
        "id": "Ls_7gotgo3MG"
      },
      "outputs": [],
      "source": [
        "# code for question 15\n"
      ]
    },
    {
      "cell_type": "markdown",
      "metadata": {
        "id": "Tqr0o5G2o3MH"
      },
      "source": [
        "**ANSWER FOR QUESTION 15**: (double click here and type your answer)\n",
        "\n",
        "(a) \n",
        "\n",
        "(b) "
      ]
    },
    {
      "cell_type": "markdown",
      "metadata": {
        "id": "mljWsyHIo3MH"
      },
      "source": [
        "### 16. Retain only the Adjusted Close price in the `spy_prices` `DataFrame`. Call the resulting `Series` `spy_adjclose`."
      ]
    },
    {
      "cell_type": "code",
      "execution_count": null,
      "metadata": {
        "id": "NUalgy5ko3MI"
      },
      "outputs": [],
      "source": [
        "# code for question 16\n"
      ]
    },
    {
      "cell_type": "markdown",
      "metadata": {
        "id": "K4PydhCVo3MJ"
      },
      "source": [
        "### 17. Now, using the `pct_change` method in `pandas`, compute the returns on the Adjusted Close prices of SPY, and only retain the returns from '2019-01-01' to '2020-01-01'. Call the `Series` obtained `spy_returns`."
      ]
    },
    {
      "cell_type": "code",
      "execution_count": null,
      "metadata": {
        "id": "fnfMg1rxo3MJ"
      },
      "outputs": [],
      "source": [
        "# code for question 17\n"
      ]
    },
    {
      "cell_type": "markdown",
      "metadata": {
        "id": "Op1v6eKco3MK"
      },
      "source": [
        "### 18. Perform SVD on `returns` data that contain assets from the S&P 500, and save the left singular vectors in an array called `U`, the singular values in an array called `sing_vals`, and the right singular vectors in an array called `V`. Retain the left singular vector corresponding to the largest singular value and call is `u_sigma1`."
      ]
    },
    {
      "cell_type": "code",
      "execution_count": null,
      "metadata": {
        "id": "ZhGtqZlJo3ML"
      },
      "outputs": [],
      "source": [
        "# code for question 18\n"
      ]
    },
    {
      "cell_type": "markdown",
      "metadata": {
        "id": "z8hsxeX9o3ML"
      },
      "source": [
        "### 19. `u_sigma1` is thought to track the market. To test that, we will perform a regression of `spy_returns` against this first left singular vector by letting `y=spy_returns` and `x=u_sigma1` and computing\n",
        "\n",
        "### $$ y = \\beta_0 + \\beta_1 x$$\n",
        "### using least squares regression."
      ]
    },
    {
      "cell_type": "code",
      "execution_count": null,
      "metadata": {
        "id": "IQthBSxPo3MM"
      },
      "outputs": [],
      "source": [
        "# code for question 19\n"
      ]
    },
    {
      "cell_type": "markdown",
      "metadata": {
        "id": "idRHqOqco3MM"
      },
      "source": [
        "### 20. Plot the cumulative sum of the result from the regression on top of the cumulative sum of `spy_returns`. What do you notice? Answer this question using a quantitative measure of choice to describe how well the regression describes the actual data (you should research what is standard procedure in answering these types of questions)."
      ]
    },
    {
      "cell_type": "code",
      "execution_count": null,
      "metadata": {
        "id": "OZaw-XZqo3MN"
      },
      "outputs": [],
      "source": [
        "# code for question 20\n"
      ]
    },
    {
      "cell_type": "markdown",
      "metadata": {
        "id": "sDOLMEZ9o3MN"
      },
      "source": [
        "**ANSWER FOR QUESTION 20**: (double click here and type your answer)"
      ]
    },
    {
      "cell_type": "markdown",
      "metadata": {
        "id": "9utCD6iFo3MO"
      },
      "source": [
        "# Congratulations! You have just implemented your first PCA regression to describe the returns on the S&P 500. Now let's shift gears a little and see how singular values and singular vectors of returns matrices are connected to eigenvalues and eigenvectors of correlation matrices."
      ]
    },
    {
      "cell_type": "markdown",
      "metadata": {
        "id": "z3XcekZdo3MP"
      },
      "source": [
        "### 21. Compute the standardized returns of the S&P 500 and save you answer in a `DataFrame` called `sp500_standardized_returns`."
      ]
    },
    {
      "cell_type": "code",
      "execution_count": null,
      "metadata": {
        "id": "7EL9Y8Ppo3MP"
      },
      "outputs": [],
      "source": [
        "# code for question 21\n"
      ]
    },
    {
      "cell_type": "markdown",
      "metadata": {
        "id": "xOvFVvCGo3MQ"
      },
      "source": [
        "### 22. Perform SVD on `sp500_standardized_returns` data and save the singular values in an array called `singvals_standardized_returns`."
      ]
    },
    {
      "cell_type": "code",
      "execution_count": null,
      "metadata": {
        "id": "iMcbU-mxo3MQ"
      },
      "outputs": [],
      "source": [
        "# code for question 22\n"
      ]
    },
    {
      "cell_type": "markdown",
      "metadata": {
        "id": "xtmQtNexo3MS"
      },
      "source": [
        "### 23. Compute the correlation matrix of the S&P 500 returns and save the result as a `DataFrame` called `sp500_corr`. It is easiest to use the built in `pandas` method to compute correlation matrices. "
      ]
    },
    {
      "cell_type": "code",
      "execution_count": null,
      "metadata": {
        "id": "a113a18Ho3MU"
      },
      "outputs": [],
      "source": [
        "# code for question 23\n"
      ]
    },
    {
      "cell_type": "markdown",
      "metadata": {
        "id": "2Hwcv--io3MU"
      },
      "source": [
        "### 24. Compute the eigenvalues and eigenvectors of the correlation matrix. Save the results in arrays called `eigvals_corr` and `eigvecs_corr`. How are the eigenvalues of `sp500_corr` related to the singular values of `sp500_standardized_returns`? You should derive this result theoretically."
      ]
    },
    {
      "cell_type": "code",
      "execution_count": null,
      "metadata": {
        "id": "5AkzRW57o3MV"
      },
      "outputs": [],
      "source": [
        "# code for question 24\n"
      ]
    },
    {
      "cell_type": "markdown",
      "metadata": {
        "id": "tT1-jTDJo3MV"
      },
      "source": [
        "**ANSWER FOR QUESTION 24**: (double click here and type your answer)"
      ]
    },
    {
      "cell_type": "markdown",
      "metadata": {
        "id": "YFoaTwa1o3MW"
      },
      "source": [
        "### 25. What is the sum of the eigenvalues? Justify why the sum turns out to be what it is."
      ]
    },
    {
      "cell_type": "code",
      "execution_count": null,
      "metadata": {
        "id": "6AC6PG2fo3MX"
      },
      "outputs": [],
      "source": [
        "# code for question 25\n"
      ]
    },
    {
      "cell_type": "markdown",
      "metadata": {
        "id": "NTiJh4_jo3MX"
      },
      "source": [
        "**ANSWER FOR QUESTION 25**: (double click here and type your answer)"
      ]
    },
    {
      "cell_type": "markdown",
      "metadata": {
        "id": "0p0Fvoeco3MY"
      },
      "source": [
        "### 26. How are the eigenvectors of the correlation matrix `eigvecs_corr` connected to the left singular vectors of the standardized returns matrix in Question 22? Here you are expected to derive the relation theoretically."
      ]
    },
    {
      "cell_type": "markdown",
      "metadata": {
        "id": "-oH6uQIso3MY"
      },
      "source": [
        "**ANSWER FOR QUESTION 26**: (double click here and type your answer)"
      ]
    },
    {
      "cell_type": "code",
      "execution_count": null,
      "metadata": {
        "id": "vB50R5b0o3MZ"
      },
      "outputs": [],
      "source": []
    }
  ],
  "metadata": {
    "colab": {
      "collapsed_sections": [],
      "name": "LASTNAME_FIRSTNAME_LinearAlgebra_project.ipynb",
      "provenance": []
    },
    "kernelspec": {
      "display_name": "Python 3",
      "language": "python",
      "name": "python3"
    },
    "language_info": {
      "codemirror_mode": {
        "name": "ipython",
        "version": 3
      },
      "file_extension": ".py",
      "mimetype": "text/x-python",
      "name": "python",
      "nbconvert_exporter": "python",
      "pygments_lexer": "ipython3",
      "version": "3.8.5"
    }
  },
  "nbformat": 4,
  "nbformat_minor": 0
}
